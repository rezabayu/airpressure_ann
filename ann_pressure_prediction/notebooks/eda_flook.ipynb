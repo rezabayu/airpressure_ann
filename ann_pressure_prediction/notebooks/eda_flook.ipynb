{
 "cells": [
  {
   "cell_type": "code",
   "execution_count": 1,
   "id": "9c334287",
   "metadata": {},
   "outputs": [],
   "source": [
    "import pandas as pd\n",
    "import matplotlib.pyplot as plt\n",
    "import seaborn as sns\n",
    "import numpy as np"
   ]
  },
  {
   "cell_type": "code",
   "execution_count": 2,
   "id": "ff96ade1",
   "metadata": {},
   "outputs": [
    {
     "data": {
      "text/html": [
       "<div>\n",
       "<style scoped>\n",
       "    .dataframe tbody tr th:only-of-type {\n",
       "        vertical-align: middle;\n",
       "    }\n",
       "\n",
       "    .dataframe tbody tr th {\n",
       "        vertical-align: top;\n",
       "    }\n",
       "\n",
       "    .dataframe thead th {\n",
       "        text-align: right;\n",
       "    }\n",
       "</style>\n",
       "<table border=\"1\" class=\"dataframe\">\n",
       "  <thead>\n",
       "    <tr style=\"text-align: right;\">\n",
       "      <th></th>\n",
       "      <th>WMO_ID</th>\n",
       "      <th>DATA_TIMESTAMP</th>\n",
       "      <th>RAINFALL_LAST_MM</th>\n",
       "      <th>TEMP_DEWPOINT_C_TDTDTD</th>\n",
       "      <th>TEMP_DRYBULB_C_TTTTTT</th>\n",
       "      <th>TEMP_WETBULB_C</th>\n",
       "      <th>WIND_SPEED_FF</th>\n",
       "      <th>RELATIVE_HUMIDITY_PC</th>\n",
       "      <th>PRESSURE_QFF_MB_DERIVED</th>\n",
       "      <th>PRESSURE_QFE_MB_DERIVED</th>\n",
       "    </tr>\n",
       "  </thead>\n",
       "  <tbody>\n",
       "    <tr>\n",
       "      <th>0</th>\n",
       "      <td>96749</td>\n",
       "      <td>2024-12-31 23:00:00+00:00</td>\n",
       "      <td>NaN</td>\n",
       "      <td>23.6</td>\n",
       "      <td>25.0</td>\n",
       "      <td>24.0</td>\n",
       "      <td>2.0</td>\n",
       "      <td>92.0</td>\n",
       "      <td>1008.8</td>\n",
       "      <td>1007.5</td>\n",
       "    </tr>\n",
       "    <tr>\n",
       "      <th>1</th>\n",
       "      <td>96749</td>\n",
       "      <td>2024-12-31 22:00:00+00:00</td>\n",
       "      <td>NaN</td>\n",
       "      <td>23.6</td>\n",
       "      <td>25.3</td>\n",
       "      <td>24.1</td>\n",
       "      <td>2.0</td>\n",
       "      <td>91.0</td>\n",
       "      <td>1008.4</td>\n",
       "      <td>1007.1</td>\n",
       "    </tr>\n",
       "    <tr>\n",
       "      <th>2</th>\n",
       "      <td>96749</td>\n",
       "      <td>2024-12-31 21:00:00+00:00</td>\n",
       "      <td>0.0</td>\n",
       "      <td>23.6</td>\n",
       "      <td>25.4</td>\n",
       "      <td>24.1</td>\n",
       "      <td>3.0</td>\n",
       "      <td>90.0</td>\n",
       "      <td>1007.7</td>\n",
       "      <td>1006.4</td>\n",
       "    </tr>\n",
       "    <tr>\n",
       "      <th>3</th>\n",
       "      <td>96749</td>\n",
       "      <td>2024-12-31 20:00:00+00:00</td>\n",
       "      <td>NaN</td>\n",
       "      <td>23.6</td>\n",
       "      <td>25.8</td>\n",
       "      <td>24.2</td>\n",
       "      <td>4.0</td>\n",
       "      <td>88.0</td>\n",
       "      <td>1008.0</td>\n",
       "      <td>1006.7</td>\n",
       "    </tr>\n",
       "    <tr>\n",
       "      <th>4</th>\n",
       "      <td>96749</td>\n",
       "      <td>2024-12-31 19:00:00+00:00</td>\n",
       "      <td>NaN</td>\n",
       "      <td>23.6</td>\n",
       "      <td>26.1</td>\n",
       "      <td>24.3</td>\n",
       "      <td>3.0</td>\n",
       "      <td>86.0</td>\n",
       "      <td>1008.8</td>\n",
       "      <td>1007.5</td>\n",
       "    </tr>\n",
       "  </tbody>\n",
       "</table>\n",
       "</div>"
      ],
      "text/plain": [
       "   WMO_ID            DATA_TIMESTAMP  RAINFALL_LAST_MM  TEMP_DEWPOINT_C_TDTDTD  \\\n",
       "0   96749 2024-12-31 23:00:00+00:00               NaN                    23.6   \n",
       "1   96749 2024-12-31 22:00:00+00:00               NaN                    23.6   \n",
       "2   96749 2024-12-31 21:00:00+00:00               0.0                    23.6   \n",
       "3   96749 2024-12-31 20:00:00+00:00               NaN                    23.6   \n",
       "4   96749 2024-12-31 19:00:00+00:00               NaN                    23.6   \n",
       "\n",
       "   TEMP_DRYBULB_C_TTTTTT  TEMP_WETBULB_C  WIND_SPEED_FF  RELATIVE_HUMIDITY_PC  \\\n",
       "0                   25.0            24.0            2.0                  92.0   \n",
       "1                   25.3            24.1            2.0                  91.0   \n",
       "2                   25.4            24.1            3.0                  90.0   \n",
       "3                   25.8            24.2            4.0                  88.0   \n",
       "4                   26.1            24.3            3.0                  86.0   \n",
       "\n",
       "   PRESSURE_QFF_MB_DERIVED  PRESSURE_QFE_MB_DERIVED  \n",
       "0                   1008.8                   1007.5  \n",
       "1                   1008.4                   1007.1  \n",
       "2                   1007.7                   1006.4  \n",
       "3                   1008.0                   1006.7  \n",
       "4                   1008.8                   1007.5  "
      ]
     },
     "execution_count": 2,
     "metadata": {},
     "output_type": "execute_result"
    }
   ],
   "source": [
    "df = pd.read_parquet(\"/home/rzby/airpressure_ann/ann_pressure_prediction/data/raw/synop_96749_soetta.parquet\")\n",
    "df.head()"
   ]
  },
  {
   "cell_type": "code",
   "execution_count": 4,
   "id": "031bb5f7",
   "metadata": {},
   "outputs": [
    {
     "name": "stdout",
     "output_type": "stream",
     "text": [
      "WMO_ID\n",
      "DATA_TIMESTAMP\n",
      "RAINFALL_LAST_MM\n",
      "TEMP_DEWPOINT_C_TDTDTD\n",
      "TEMP_DRYBULB_C_TTTTTT\n",
      "TEMP_WETBULB_C\n",
      "WIND_SPEED_FF\n",
      "RELATIVE_HUMIDITY_PC\n",
      "PRESSURE_QFF_MB_DERIVED\n",
      "PRESSURE_QFE_MB_DERIVED\n"
     ]
    }
   ],
   "source": [
    "for nama in df.columns.values:\n",
    "    print(nama)"
   ]
  },
  {
   "cell_type": "code",
   "execution_count": 5,
   "id": "26268135",
   "metadata": {},
   "outputs": [
    {
     "data": {
      "text/html": [
       "<div>\n",
       "<style scoped>\n",
       "    .dataframe tbody tr th:only-of-type {\n",
       "        vertical-align: middle;\n",
       "    }\n",
       "\n",
       "    .dataframe tbody tr th {\n",
       "        vertical-align: top;\n",
       "    }\n",
       "\n",
       "    .dataframe thead th {\n",
       "        text-align: right;\n",
       "    }\n",
       "</style>\n",
       "<table border=\"1\" class=\"dataframe\">\n",
       "  <thead>\n",
       "    <tr style=\"text-align: right;\">\n",
       "      <th></th>\n",
       "      <th>WMO_ID</th>\n",
       "      <th>DATA_TIMESTAMP</th>\n",
       "      <th>RAINFALL_LAST_MM</th>\n",
       "      <th>TEMP_DEWPOINT_C_TDTDTD</th>\n",
       "      <th>TEMP_DRYBULB_C_TTTTTT</th>\n",
       "      <th>TEMP_WETBULB_C</th>\n",
       "      <th>WIND_SPEED_FF</th>\n",
       "      <th>RELATIVE_HUMIDITY_PC</th>\n",
       "      <th>PRESSURE_QFF_MB_DERIVED</th>\n",
       "      <th>PRESSURE_QFE_MB_DERIVED</th>\n",
       "    </tr>\n",
       "    <tr>\n",
       "      <th>ts</th>\n",
       "      <th></th>\n",
       "      <th></th>\n",
       "      <th></th>\n",
       "      <th></th>\n",
       "      <th></th>\n",
       "      <th></th>\n",
       "      <th></th>\n",
       "      <th></th>\n",
       "      <th></th>\n",
       "      <th></th>\n",
       "    </tr>\n",
       "  </thead>\n",
       "  <tbody>\n",
       "    <tr>\n",
       "      <th>2015-01-01 00:00:00+00:00</th>\n",
       "      <td>96749</td>\n",
       "      <td>2015-01-01 00:00:00+00:00</td>\n",
       "      <td>0.0</td>\n",
       "      <td>22.4</td>\n",
       "      <td>23.9</td>\n",
       "      <td>22.8</td>\n",
       "      <td>7.0</td>\n",
       "      <td>91.1</td>\n",
       "      <td>1010.8</td>\n",
       "      <td>1009.5</td>\n",
       "    </tr>\n",
       "    <tr>\n",
       "      <th>2015-01-01 01:00:00+00:00</th>\n",
       "      <td>96749</td>\n",
       "      <td>2015-01-01 01:00:00+00:00</td>\n",
       "      <td>NaN</td>\n",
       "      <td>23.4</td>\n",
       "      <td>24.2</td>\n",
       "      <td>23.6</td>\n",
       "      <td>7.0</td>\n",
       "      <td>95.1</td>\n",
       "      <td>1011.2</td>\n",
       "      <td>1009.9</td>\n",
       "    </tr>\n",
       "    <tr>\n",
       "      <th>2015-01-01 02:00:00+00:00</th>\n",
       "      <td>96749</td>\n",
       "      <td>2015-01-01 02:00:00+00:00</td>\n",
       "      <td>NaN</td>\n",
       "      <td>23.6</td>\n",
       "      <td>25.4</td>\n",
       "      <td>24.1</td>\n",
       "      <td>10.0</td>\n",
       "      <td>89.8</td>\n",
       "      <td>1011.5</td>\n",
       "      <td>1010.2</td>\n",
       "    </tr>\n",
       "    <tr>\n",
       "      <th>2015-01-01 03:00:00+00:00</th>\n",
       "      <td>96749</td>\n",
       "      <td>2015-01-01 03:00:00+00:00</td>\n",
       "      <td>0.8</td>\n",
       "      <td>24.4</td>\n",
       "      <td>26.0</td>\n",
       "      <td>24.8</td>\n",
       "      <td>11.0</td>\n",
       "      <td>90.7</td>\n",
       "      <td>1011.2</td>\n",
       "      <td>1009.8</td>\n",
       "    </tr>\n",
       "    <tr>\n",
       "      <th>2015-01-01 04:00:00+00:00</th>\n",
       "      <td>96749</td>\n",
       "      <td>2015-01-01 04:00:00+00:00</td>\n",
       "      <td>NaN</td>\n",
       "      <td>23.8</td>\n",
       "      <td>27.8</td>\n",
       "      <td>24.9</td>\n",
       "      <td>12.0</td>\n",
       "      <td>79.0</td>\n",
       "      <td>1010.2</td>\n",
       "      <td>1008.9</td>\n",
       "    </tr>\n",
       "  </tbody>\n",
       "</table>\n",
       "</div>"
      ],
      "text/plain": [
       "                           WMO_ID            DATA_TIMESTAMP  RAINFALL_LAST_MM  \\\n",
       "ts                                                                              \n",
       "2015-01-01 00:00:00+00:00   96749 2015-01-01 00:00:00+00:00               0.0   \n",
       "2015-01-01 01:00:00+00:00   96749 2015-01-01 01:00:00+00:00               NaN   \n",
       "2015-01-01 02:00:00+00:00   96749 2015-01-01 02:00:00+00:00               NaN   \n",
       "2015-01-01 03:00:00+00:00   96749 2015-01-01 03:00:00+00:00               0.8   \n",
       "2015-01-01 04:00:00+00:00   96749 2015-01-01 04:00:00+00:00               NaN   \n",
       "\n",
       "                           TEMP_DEWPOINT_C_TDTDTD  TEMP_DRYBULB_C_TTTTTT  \\\n",
       "ts                                                                         \n",
       "2015-01-01 00:00:00+00:00                    22.4                   23.9   \n",
       "2015-01-01 01:00:00+00:00                    23.4                   24.2   \n",
       "2015-01-01 02:00:00+00:00                    23.6                   25.4   \n",
       "2015-01-01 03:00:00+00:00                    24.4                   26.0   \n",
       "2015-01-01 04:00:00+00:00                    23.8                   27.8   \n",
       "\n",
       "                           TEMP_WETBULB_C  WIND_SPEED_FF  \\\n",
       "ts                                                         \n",
       "2015-01-01 00:00:00+00:00            22.8            7.0   \n",
       "2015-01-01 01:00:00+00:00            23.6            7.0   \n",
       "2015-01-01 02:00:00+00:00            24.1           10.0   \n",
       "2015-01-01 03:00:00+00:00            24.8           11.0   \n",
       "2015-01-01 04:00:00+00:00            24.9           12.0   \n",
       "\n",
       "                           RELATIVE_HUMIDITY_PC  PRESSURE_QFF_MB_DERIVED  \\\n",
       "ts                                                                         \n",
       "2015-01-01 00:00:00+00:00                  91.1                   1010.8   \n",
       "2015-01-01 01:00:00+00:00                  95.1                   1011.2   \n",
       "2015-01-01 02:00:00+00:00                  89.8                   1011.5   \n",
       "2015-01-01 03:00:00+00:00                  90.7                   1011.2   \n",
       "2015-01-01 04:00:00+00:00                  79.0                   1010.2   \n",
       "\n",
       "                           PRESSURE_QFE_MB_DERIVED  \n",
       "ts                                                  \n",
       "2015-01-01 00:00:00+00:00                   1009.5  \n",
       "2015-01-01 01:00:00+00:00                   1009.9  \n",
       "2015-01-01 02:00:00+00:00                   1010.2  \n",
       "2015-01-01 03:00:00+00:00                   1009.8  \n",
       "2015-01-01 04:00:00+00:00                   1008.9  "
      ]
     },
     "execution_count": 5,
     "metadata": {},
     "output_type": "execute_result"
    }
   ],
   "source": [
    "df['ts'] = pd.to_datetime(df['DATA_TIMESTAMP'], utc=True)\n",
    "df = df.set_index('ts').sort_index()\n",
    "df.head()"
   ]
  },
  {
   "cell_type": "code",
   "execution_count": 6,
   "id": "21558264",
   "metadata": {},
   "outputs": [],
   "source": [
    "df = df.drop(columns=['DATA_TIMESTAMP'])"
   ]
  },
  {
   "cell_type": "code",
   "execution_count": 7,
   "id": "7f9afe9a",
   "metadata": {},
   "outputs": [],
   "source": [
    "df.replace(to_replace={\n",
    "    8888: 0.01,\n",
    "    9999: np.nan\n",
    "}, inplace=True)"
   ]
  },
  {
   "cell_type": "code",
   "execution_count": 8,
   "id": "862b09a3",
   "metadata": {},
   "outputs": [
    {
     "data": {
      "text/html": [
       "<div>\n",
       "<style scoped>\n",
       "    .dataframe tbody tr th:only-of-type {\n",
       "        vertical-align: middle;\n",
       "    }\n",
       "\n",
       "    .dataframe tbody tr th {\n",
       "        vertical-align: top;\n",
       "    }\n",
       "\n",
       "    .dataframe thead th {\n",
       "        text-align: right;\n",
       "    }\n",
       "</style>\n",
       "<table border=\"1\" class=\"dataframe\">\n",
       "  <thead>\n",
       "    <tr style=\"text-align: right;\">\n",
       "      <th></th>\n",
       "      <th>WMO_ID</th>\n",
       "      <th>RAINFALL_LAST_MM</th>\n",
       "      <th>TEMP_DEWPOINT_C_TDTDTD</th>\n",
       "      <th>TEMP_DRYBULB_C_TTTTTT</th>\n",
       "      <th>TEMP_WETBULB_C</th>\n",
       "      <th>WIND_SPEED_FF</th>\n",
       "      <th>RELATIVE_HUMIDITY_PC</th>\n",
       "      <th>PRESSURE_QFF_MB_DERIVED</th>\n",
       "      <th>PRESSURE_QFE_MB_DERIVED</th>\n",
       "    </tr>\n",
       "  </thead>\n",
       "  <tbody>\n",
       "    <tr>\n",
       "      <th>2015-01-01 00:00:00+00:00</th>\n",
       "      <td>96749.0</td>\n",
       "      <td>0.0</td>\n",
       "      <td>22.4</td>\n",
       "      <td>23.9</td>\n",
       "      <td>22.8</td>\n",
       "      <td>7.0</td>\n",
       "      <td>91.1</td>\n",
       "      <td>1010.8</td>\n",
       "      <td>1009.5</td>\n",
       "    </tr>\n",
       "    <tr>\n",
       "      <th>2015-01-01 03:00:00+00:00</th>\n",
       "      <td>96749.0</td>\n",
       "      <td>0.8</td>\n",
       "      <td>24.4</td>\n",
       "      <td>26.0</td>\n",
       "      <td>24.8</td>\n",
       "      <td>11.0</td>\n",
       "      <td>90.7</td>\n",
       "      <td>1011.2</td>\n",
       "      <td>1009.8</td>\n",
       "    </tr>\n",
       "    <tr>\n",
       "      <th>2015-01-01 06:00:00+00:00</th>\n",
       "      <td>96749.0</td>\n",
       "      <td>0.0</td>\n",
       "      <td>23.8</td>\n",
       "      <td>27.6</td>\n",
       "      <td>24.8</td>\n",
       "      <td>11.0</td>\n",
       "      <td>79.7</td>\n",
       "      <td>1008.8</td>\n",
       "      <td>1007.5</td>\n",
       "    </tr>\n",
       "    <tr>\n",
       "      <th>2015-01-01 09:00:00+00:00</th>\n",
       "      <td>96749.0</td>\n",
       "      <td>7.9</td>\n",
       "      <td>24.2</td>\n",
       "      <td>25.2</td>\n",
       "      <td>24.5</td>\n",
       "      <td>8.0</td>\n",
       "      <td>94.4</td>\n",
       "      <td>1008.5</td>\n",
       "      <td>1007.2</td>\n",
       "    </tr>\n",
       "    <tr>\n",
       "      <th>2015-01-01 12:00:00+00:00</th>\n",
       "      <td>96749.0</td>\n",
       "      <td>0.9</td>\n",
       "      <td>23.7</td>\n",
       "      <td>25.6</td>\n",
       "      <td>24.2</td>\n",
       "      <td>7.0</td>\n",
       "      <td>89.1</td>\n",
       "      <td>1010.2</td>\n",
       "      <td>1008.8</td>\n",
       "    </tr>\n",
       "  </tbody>\n",
       "</table>\n",
       "</div>"
      ],
      "text/plain": [
       "                            WMO_ID  RAINFALL_LAST_MM  TEMP_DEWPOINT_C_TDTDTD  \\\n",
       "2015-01-01 00:00:00+00:00  96749.0               0.0                    22.4   \n",
       "2015-01-01 03:00:00+00:00  96749.0               0.8                    24.4   \n",
       "2015-01-01 06:00:00+00:00  96749.0               0.0                    23.8   \n",
       "2015-01-01 09:00:00+00:00  96749.0               7.9                    24.2   \n",
       "2015-01-01 12:00:00+00:00  96749.0               0.9                    23.7   \n",
       "\n",
       "                           TEMP_DRYBULB_C_TTTTTT  TEMP_WETBULB_C  \\\n",
       "2015-01-01 00:00:00+00:00                   23.9            22.8   \n",
       "2015-01-01 03:00:00+00:00                   26.0            24.8   \n",
       "2015-01-01 06:00:00+00:00                   27.6            24.8   \n",
       "2015-01-01 09:00:00+00:00                   25.2            24.5   \n",
       "2015-01-01 12:00:00+00:00                   25.6            24.2   \n",
       "\n",
       "                           WIND_SPEED_FF  RELATIVE_HUMIDITY_PC  \\\n",
       "2015-01-01 00:00:00+00:00            7.0                  91.1   \n",
       "2015-01-01 03:00:00+00:00           11.0                  90.7   \n",
       "2015-01-01 06:00:00+00:00           11.0                  79.7   \n",
       "2015-01-01 09:00:00+00:00            8.0                  94.4   \n",
       "2015-01-01 12:00:00+00:00            7.0                  89.1   \n",
       "\n",
       "                           PRESSURE_QFF_MB_DERIVED  PRESSURE_QFE_MB_DERIVED  \n",
       "2015-01-01 00:00:00+00:00                   1010.8                   1009.5  \n",
       "2015-01-01 03:00:00+00:00                   1011.2                   1009.8  \n",
       "2015-01-01 06:00:00+00:00                   1008.8                   1007.5  \n",
       "2015-01-01 09:00:00+00:00                   1008.5                   1007.2  \n",
       "2015-01-01 12:00:00+00:00                   1010.2                   1008.8  "
      ]
     },
     "execution_count": 8,
     "metadata": {},
     "output_type": "execute_result"
    }
   ],
   "source": [
    "FULL_IDX = pd.date_range(\n",
    "    start=\"2015-01-01 00:00\",\n",
    "    end = \"2024-12-31 21:00\",\n",
    "    freq=\"3h\",\n",
    "    tz=\"utc\"\n",
    ")\n",
    "df_full = df.reindex(FULL_IDX)\n",
    "df_full.head()"
   ]
  },
  {
   "cell_type": "code",
   "execution_count": 9,
   "id": "3c5a1645",
   "metadata": {},
   "outputs": [
    {
     "name": "stderr",
     "output_type": "stream",
     "text": [
      "/tmp/ipykernel_16996/2470381008.py:1: SettingWithCopyWarning: \n",
      "A value is trying to be set on a copy of a slice from a DataFrame.\n",
      "Try using .loc[row_indexer,col_indexer] = value instead\n",
      "\n",
      "See the caveats in the documentation: https://pandas.pydata.org/pandas-docs/stable/user_guide/indexing.html#returning-a-view-versus-a-copy\n",
      "  df_full[df_full['WMO_ID'].isna()]['WMO_ID'] = '96749'\n"
     ]
    }
   ],
   "source": [
    "df_full[df_full['WMO_ID'].isna()]['WMO_ID'] = '96749'"
   ]
  },
  {
   "cell_type": "code",
   "execution_count": 10,
   "id": "3b1748e7",
   "metadata": {},
   "outputs": [],
   "source": [
    "df_full['WMO_ID'] = df_full['WMO_ID'].astype(str)"
   ]
  },
  {
   "cell_type": "code",
   "execution_count": 11,
   "id": "0af90300",
   "metadata": {},
   "outputs": [
    {
     "name": "stdout",
     "output_type": "stream",
     "text": [
      "Expected rows: 29,224\n",
      "Actual rows  : 29,224\n"
     ]
    },
    {
     "data": {
      "text/plain": [
       "RAINFALL_LAST_MM           7.28\n",
       "WIND_SPEED_FF              0.35\n",
       "PRESSURE_QFE_MB_DERIVED    0.35\n",
       "TEMP_DEWPOINT_C_TDTDTD     0.34\n",
       "TEMP_DRYBULB_C_TTTTTT      0.34\n",
       "TEMP_WETBULB_C             0.34\n",
       "RELATIVE_HUMIDITY_PC       0.34\n",
       "PRESSURE_QFF_MB_DERIVED    0.34\n",
       "WMO_ID                     0.00\n",
       "dtype: float64"
      ]
     },
     "metadata": {},
     "output_type": "display_data"
    }
   ],
   "source": [
    "print(f\"Expected rows: {len(FULL_IDX):,}\")\n",
    "print(f\"Actual rows  : {len(df_full):,}\")\n",
    "\n",
    "missing_pct = df_full.isna().mean().mul(100).round(2)\n",
    "display(missing_pct.sort_values(ascending=False).head(10))\n"
   ]
  },
  {
   "cell_type": "code",
   "execution_count": 12,
   "id": "8f0e9030",
   "metadata": {},
   "outputs": [
    {
     "data": {
      "image/png": "[encoded data removed]",
      "text/plain": [
       "<Figure size 1400x400 with 2 Axes>"
      ]
     },
     "metadata": {},
     "output_type": "display_data"
    }
   ],
   "source": [
    "# Build a Y–M matrix of missing-row counts (any NaN in the row counts as missing)\n",
    "mask_any_na = df_full.isna().any(axis=1)\n",
    "miss_tbl = (\n",
    "    mask_any_na.groupby([df_full.index.year, df_full.index.month])\n",
    "    .mean()\n",
    "    .unstack(level=1) * 100\n",
    ")\n",
    "\n",
    "plt.figure(figsize=(14,4))\n",
    "sns.heatmap(miss_tbl, cmap=\"Reds\", cbar_kws={\"label\":\"% rows with ≥1 NaN\"})\n",
    "plt.title(\"Missing data heat-map • WMO 96749 • 2015-2024\")\n",
    "plt.ylabel(\"Year\"); plt.xlabel(\"Month\"); plt.show()\n"
   ]
  },
  {
   "cell_type": "code",
   "execution_count": 13,
   "id": "96bb427e",
   "metadata": {},
   "outputs": [
    {
     "data": {
      "image/png": "[encoded data removed]",
      "text/plain": [
       "<Figure size 640x480 with 1 Axes>"
      ]
     },
     "metadata": {},
     "output_type": "display_data"
    }
   ],
   "source": [
    "df_full['month'] = df_full.index.month\n",
    "sns.boxplot(x='month', y='PRESSURE_QFE_MB_DERIVED', data=df_full, showfliers=False)\n",
    "plt.title(\"Monthly distribution of QFE (hPa)\")\n",
    "plt.show()"
   ]
  },
  {
   "cell_type": "code",
   "execution_count": 14,
   "id": "b7778982",
   "metadata": {},
   "outputs": [
    {
     "data": {
      "image/png": "[encoded data removed]",
      "text/plain": [
       "<Figure size 1400x400 with 2 Axes>"
      ]
     },
     "metadata": {},
     "output_type": "display_data"
    }
   ],
   "source": [
    "rain = df_full['RAINFALL_LAST_MM']\n",
    "# Percentage of slots that have rainfall values each month\n",
    "rain_pct = (\n",
    "    rain.notna()\n",
    "        .groupby([df_full.index.year, df_full.index.month])\n",
    "        .mean()\n",
    "        .unstack(level=1) * 100\n",
    ")\n",
    "\n",
    "plt.figure(figsize=(14,4))\n",
    "sns.heatmap(rain_pct, cmap=\"Blues\", cbar_kws={\"label\":\"% 3-h slots with value\"})\n",
    "plt.title(\"RAINFALL_LAST_MM coverage • WMO 96749\")\n",
    "plt.ylabel(\"Year\"); plt.xlabel(\"Month\"); plt.show()\n"
   ]
  },
  {
   "cell_type": "code",
   "execution_count": 15,
   "id": "30389652",
   "metadata": {},
   "outputs": [],
   "source": [
    "from pathlib import Path\n",
    "OUTFILE = Path(\"/home/rzby/airpressure_ann/ann_pressure_prediction/data/interim/three_h-96749.parquet\")\n",
    "df_full.to_parquet(OUTFILE)"
   ]
  },
  {
   "cell_type": "code",
   "execution_count": null,
   "id": "e1938e8f",
   "metadata": {},
   "outputs": [],
   "source": []
  }
 ],
 "metadata": {
  "kernelspec": {
   "display_name": "atmo-ann",
   "language": "python",
   "name": "python3"
  },
  "language_info": {
   "codemirror_mode": {
    "name": "ipython",
    "version": 3
   },
   "file_extension": ".py",
   "mimetype": "text/x-python",
   "name": "python",
   "nbconvert_exporter": "python",
   "pygments_lexer": "ipython3",
   "version": "3.11.12"
  }
 },
 "nbformat": 4,
 "nbformat_minor": 5
}
